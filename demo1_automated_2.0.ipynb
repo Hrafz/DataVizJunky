{
 "cells": [
  {
   "attachments": {},
   "cell_type": "markdown",
   "metadata": {},
   "source": [
    "## IMPORTS"
   ]
  },
  {
   "cell_type": "code",
   "execution_count": 23,
   "metadata": {},
   "outputs": [],
   "source": [
    "import numpy as np\n",
    "import matplotlib.pyplot as plt\n",
    "import pandas as pd\n",
    "import seaborn as sns\n",
    "import os\n",
    "import sys\n",
    "import cv2\n",
    "import glob\n",
    "from IPython.display import clear_output\n"
   ]
  },
  {
   "attachments": {},
   "cell_type": "markdown",
   "metadata": {},
   "source": [
    "## DEFINE FUNCTIONS"
   ]
  },
  {
   "cell_type": "code",
   "execution_count": 24,
   "metadata": {},
   "outputs": [],
   "source": [
    "# def function for storing data in excel file\n",
    "def store_data_xlsx(data, filepath, sheet_name):\n",
    "    import openpyxl\n",
    "    wb = openpyxl.load_workbook(filepath)\n",
    "    sheet=wb.create_sheet(sheet_name)\n",
    "    for row in data:\n",
    "        sheet.append(row)\n",
    "    wb.save(filepath)\n",
    "    wb.close()\n",
    "    print(\"Data stored in excel file successfully\")\n"
   ]
  },
  {
   "cell_type": "code",
   "execution_count": 25,
   "metadata": {},
   "outputs": [],
   "source": [
    "# def function for plot the columns with time\n",
    "def plot_data_time(time_value,column_values, column_names):\n",
    "    \n",
    "    # check if the number of columns in column_values and column_names are same\n",
    "    if len(column_values[0]) != len(column_names):\n",
    "        print(\"Number of columns in column_values and column_names are not same\")\n",
    "        return\n",
    "    # check if the number of rows in time_value and column_values are same\n",
    "    if len(time_value) != len(column_values):\n",
    "        print(\"Number of rows in time_value and column_values are not same\")\n",
    "        return\n",
    "    \n",
    "    # plot the data\n",
    "    plt.figure(figsize=(15,10))\n",
    "    for i in range(len(column_names)):\n",
    "        plt.plot(time_value,column_values[:,i],label=column_names[i])\n",
    "    plt.xlabel(\"Time\")\n",
    "    plt.ylabel(\"Values\")\n",
    "    plt.legend()\n",
    "    plt.show()\n",
    "    print(\"Plotting done successfully\")\n"
   ]
  },
  {
   "cell_type": "code",
   "execution_count": 26,
   "metadata": {},
   "outputs": [],
   "source": [
    "# def function for plot the columns one instance of time\n",
    "def plot_data_instance(df, line, column_names, title, plt):\n",
    "\n",
    "    # plot the columns \n",
    "    ax=sns.barplot(x=df.iloc[line,column_names], y=df.columns[column_names],orient='h')\n",
    "    \n",
    "    # add percentages to the bars\n",
    "    for p in ax.patches:\n",
    "        width = p.get_width()\n",
    "        if width>2:\n",
    "            plt.text(-1.5+p.get_width(), p.get_y()+0.55*p.get_height(),\n",
    "                        '{:1.1f}%'.format(width),\n",
    "                        ha='center', va='center',color='white',fontsize=15)\n",
    "    # if time_colum contains 1 value\n",
    "    # set the title\n",
    "    ax.text(0.4, 1.01, title,\n",
    "            horizontalalignment='center',\n",
    "            fontsize=20,\n",
    "            transform = ax.transAxes)\n",
    "\n",
    "    return ax"
   ]
  },
  {
   "cell_type": "code",
   "execution_count": 39,
   "metadata": {},
   "outputs": [],
   "source": [
    "# def function to loop over time and plot the data\n",
    "def plot_data_instances(df, time_ilocs, col_ilocs,\n",
    "                         x_label=\"Value \", title0=\"Time: \",\n",
    "                           Show=False, number_of_instances=\"all\",\n",
    "                           extension=\".png\",dpi=300, directory=\"plots/\"):\n",
    "    cd0 = os.getcwd()\n",
    "    # set figure size to 16x9\n",
    "    sns.set(style=\"whitegrid\")\n",
    "    sns.set(rc={'figure.figsize':(16,9)})\n",
    "    sns.set(font_scale=1.5)\n",
    "    \n",
    "    xlim_max = np.max(df.iloc[:,col_ilocs].values,axis=(0,1))\n",
    "    xlim_min = np.min(df.iloc[:,col_ilocs].values,axis=(0,1))\n",
    "    # set the x limit in the plot\n",
    "    plt.figure(figsize=(16,9))\n",
    "    plt.xlim(xlim_min*0.95,xlim_max*1.05)\n",
    "\n",
    "    # loop over time\n",
    "    if number_of_instances==\"all\":\n",
    "        number_of_instances = len(df.iloc[:,time_ilocs[0]])\n",
    "\n",
    "    for i in range(number_of_instances):\n",
    "        \n",
    "        # plot the data for one instance of time\n",
    "        title = title0+' \\n'.join(df.iloc[i,time_ilocs].values.astype(str))\n",
    "        ax = plot_data_instance(df, i, col_ilocs, title,plt)\n",
    "        ax.set(xlabel=x_label)  \n",
    "        \n",
    "        # show the plot\n",
    "        if Show:\n",
    "            clear_output(wait=True)\n",
    "            plt.show()\n",
    "            plt.pause(0.05)\n",
    "        else:\n",
    "            #save the plot\n",
    "            if not os.path.exists(directory):\n",
    "                os.makedirs(directory)\n",
    "            filename_save=i\n",
    "            # save the plot with a good resolution\n",
    "            plt.savefig(directory+str(filename_save)+extension, dpi=dpi)\n",
    "            plt.close()\n",
    "            ax.clear()\n",
    "        # print progress\n",
    "        if i%np.floor(number_of_instances/10)==0:\n",
    "            print(\"Progress: \"+str(np.floor(i*100/number_of_instances))+\"%\")\n",
    "\n",
    "    os.chdir(cd0)   \n",
    "    print(\"Plotting done successfully\")\n",
    "    "
   ]
  },
  {
   "cell_type": "code",
   "execution_count": 42,
   "metadata": {},
   "outputs": [],
   "source": [
    "# def function to make video from images\n",
    "def make_video(image_folder, video_name, fps=20,\n",
    "                image_extension=\".png\", video_extension=\".mp4\",\n",
    "                number_of_images=\"all\",video_path=os.getcwd()):\n",
    "\n",
    "    cd0=os.getcwd()\n",
    "    import cv2\n",
    "    import glob\n",
    "\n",
    "\n",
    "\n",
    "    if  number_of_images==\"all\":\n",
    "        number_of_images=len(glob.glob(os.path.join(os.getcwd(),image_folder,'*'+image_extension)))\n",
    "        number_of_images=np.arange(0,number_of_images)\n",
    "    elif type(number_of_images)==float and number_of_images<1:\n",
    "        number_of_images=int(len(glob.glob(os.path.join(os.getcwd(),image_folder,'*'+image_extension)))*number_of_images)\n",
    "        number_of_images=np.arange(0,number_of_images)\n",
    "\n",
    "    # get size of one of the first images\n",
    "    img_array = []\n",
    "    cd_path = os.getcwd()+'/'+image_folder\n",
    "    img = cv2.imread(os.path.join(cd_path,str(int(number_of_images[0]))+image_extension))\n",
    "    height1, width1,_ = img.shape\n",
    "    size1 = (width1,height1)\n",
    "\n",
    "    print(f\"using images from {number_of_images[0]} to {number_of_images[-1]}\")\n",
    "    for i in number_of_images:\n",
    "        i=int(i)\n",
    "        img = cv2.imread(os.path.join(cd_path,str(i)+image_extension))\n",
    "        \n",
    "        # error handling before resizing\n",
    "        if img is None:\n",
    "            print(f\"Image not found for {i}\")\n",
    "            return\n",
    "        # resize the image\n",
    "        img=cv2.resize(img, size1, interpolation=cv2.INTER_AREA)\n",
    "        img_array.append(img)\n",
    "\n",
    "        #print progress\n",
    "        if i%np.floor(len(glob.glob(os.path.join(os.getcwd(),image_folder,'*'+image_extension)))/10)==0:\n",
    "            print(\"Progress: \"+str(np.floor(i*100/len(glob.glob(os.path.join(os.getcwd(),image_folder,'*'+image_extension)))))+\"%\")\n",
    "            \n",
    "        # liberate memory\n",
    "        del img\n",
    "\n",
    "    # make the video\n",
    "    video_path = os.path.join(video_path,video_name+video_extension)\n",
    "    print(f\"Saving file {video_path}\")\n",
    "    video = cv2.VideoWriter(video_path,cv2.VideoWriter_fourcc('M','P','4','V'), fps, size1)\n",
    "    for i in range(len(img_array)):\n",
    "        # write frame to video\n",
    "        video.write(img_array[i])\n",
    "    video.release()\n",
    "    os.chdir(cd0)\n",
    "    print(\"Video made successfully\")\n"
   ]
  },
  {
   "cell_type": "code",
   "execution_count": 29,
   "metadata": {},
   "outputs": [],
   "source": [
    "# define function that create muliple videos from plots and returns list of videos names to be concatenated\n",
    "def make_videos(image_folder, fps=24, image_extension=\".png\", videos_extension=\".mp4\",\n",
    "                number_of_videos=5, number_of_images=\"all\", directory=\"videos/\"):\n",
    "    cd0=os.getcwd()\n",
    "    \n",
    "    if not os.path.exists(directory):\n",
    "        os.makedirs(directory)\n",
    "    \n",
    "    print(os.getcwd())\n",
    "\n",
    "    videos_list = []\n",
    "    for i in range(number_of_videos):\n",
    "        video_name = \"video\"+str(i)\n",
    "\n",
    "        #  number of images to be used\n",
    "        if  number_of_images==\"all\":\n",
    "            number_of_images=len(glob.glob(os.path.join(os.getcwd(),image_folder,'*'+image_extension)))\n",
    "        elif type(number_of_images)==float and number_of_images<1:\n",
    "            number_of_images=int(len(glob.glob(os.path.join(os.getcwd(),image_folder,'*'+image_extension)))*number_of_images)\n",
    "        else:\n",
    "            number_of_images=int(number_of_images)\n",
    "\n",
    "        # number of images to be used for each video\n",
    "        number_of_instances_video=np.arange(i*np.floor(number_of_images/number_of_videos),(i+1)*np.floor(number_of_images/number_of_videos))\n",
    "        if i==number_of_videos-1:\n",
    "            number_of_instances_video=np.arange(i*np.floor(number_of_images/number_of_videos),number_of_images)\n",
    "\n",
    "        # make video \n",
    "        print(f\"making video {i} with images from {number_of_instances_video[0]} to {number_of_instances_video[-1]}\")\n",
    "        make_video(image_folder, video_name, fps,\n",
    "                    image_extension, videos_extension,\n",
    "                        number_of_instances_video,\n",
    "                        video_path=os.getcwd()+\"/\"+directory)\n",
    "        os.chdir(cd0)\n",
    "        videos_list.append(video_name)\n",
    "\n",
    "        # print progress\n",
    "        if i%np.floor(number_of_videos/10)==0:\n",
    "            print(\"Progress: \"+str(np.floor(i*100/number_of_videos))+\"%\")\n",
    "            \n",
    "    os.chdir(cd0)\n",
    "    print(\"Videos made successfully\")   \n",
    "    return videos_list\n"
   ]
  },
  {
   "cell_type": "code",
   "execution_count": 56,
   "metadata": {},
   "outputs": [],
   "source": [
    "# concatenate videos together using imageio\n",
    "def concatenate_videos(videos_list, concatenated_video_name,\n",
    "                        video_extension=\".mp4\",videos_path=os.getcwd()):\n",
    "    cd0 = os.getcwd()\n",
    "    import imageio\n",
    "    videos_list1=[]\n",
    "    for i in range(len(videos_list)):\n",
    "        videos_list1.append(os.path.join(videos_path,videos_list[i]+video_extension))\n",
    "    concatenated_video_name = os.path.join(videos_path,concatenated_video_name+video_extension)\n",
    "    print(videos_list1,concatenated_video_name)\n",
    "    reader = imageio.get_reader(videos_list1[0])\n",
    "    fps = reader.get_meta_data()['fps']\n",
    "    print(fps)\n",
    "    writer = imageio.get_writer(concatenated_video_name, fps=fps)\n",
    "    for video in videos_list1:\n",
    "        reader = imageio.get_reader(video)\n",
    "        for im in reader:\n",
    "            writer.append_data(im)\n",
    "    writer.close()\n",
    "\n",
    "    os.chdir(cd0)\n",
    "    print(f\"saving concatenated video to {concatenated_video_name}\")\n",
    "    print(\"Videos concatenated successfully\")\n"
   ]
  },
  {
   "cell_type": "code",
   "execution_count": 31,
   "metadata": {},
   "outputs": [],
   "source": [
    "# GLUE SIDE BY SIDE : NOT USED NOW\n",
    "# use cv2 to glue videos together\n",
    "def glue_videos_cv2(video1, video2, video_name, video_extension=\".avi\"):\n",
    "    # without using moviepy\n",
    "    import cv2\n",
    "    import os\n",
    "    import numpy as np\n",
    "    \n",
    "    # get the videos\n",
    "    cap1 = cv2.VideoCapture(video1+video_extension)\n",
    "    cap2 = cv2.VideoCapture(video2+video_extension)\n",
    "\n",
    "    # get the fps\n",
    "    fps1 = cap1.get(cv2.CAP_PROP_FPS)\n",
    "    fps2 = cap2.get(cv2.CAP_PROP_FPS)\n",
    "    print(fps1,fps2)\n",
    "\n",
    "    # get the size\n",
    "    width1  = int(cap1.get(cv2.CAP_PROP_FRAME_WIDTH))\n",
    "    height1 = int(cap1.get(cv2.CAP_PROP_FRAME_HEIGHT))\n",
    "    width2  = int(cap2.get(cv2.CAP_PROP_FRAME_WIDTH))\n",
    "    height2 = int(cap2.get(cv2.CAP_PROP_FRAME_HEIGHT))\n",
    "    print(width1,height1,width2,height2)\n",
    "\n",
    "    # get the codec\n",
    "    fourcc = cv2.VideoWriter_fourcc(*'XVID')\n",
    "\n",
    "    # create the video\n",
    "    out = cv2.VideoWriter(video_name+video_extension,fourcc, min(fps1,fps2), (width1+width2,height1))\n",
    "\n",
    "    # loop over the frames\n",
    "    while(cap1.isOpened() and cap2.isOpened()):\n",
    "        ret1, frame1 = cap1.read()\n",
    "        ret2, frame2 = cap2.read()\n",
    "        if ret1==True and ret2==True:\n",
    "            # write the frame\n",
    "            out.write(np.concatenate((frame1,frame2),axis=1))\n",
    "        else:\n",
    "            break\n",
    "\n",
    "    # release everything\n",
    "    cap1.release()\n",
    "    cap2.release()\n",
    "    out.release()\n",
    "\n",
    "    print(\"Videos glued successfully\")\n",
    "    "
   ]
  },
  {
   "attachments": {},
   "cell_type": "markdown",
   "metadata": {},
   "source": [
    "## READING & PREPROCCESSING FILE"
   ]
  },
  {
   "cell_type": "code",
   "execution_count": 32,
   "metadata": {},
   "outputs": [
    {
     "data": {
      "text/html": [
       "<div>\n",
       "<style scoped>\n",
       "    .dataframe tbody tr th:only-of-type {\n",
       "        vertical-align: middle;\n",
       "    }\n",
       "\n",
       "    .dataframe tbody tr th {\n",
       "        vertical-align: top;\n",
       "    }\n",
       "\n",
       "    .dataframe thead th {\n",
       "        text-align: right;\n",
       "    }\n",
       "</style>\n",
       "<table border=\"1\" class=\"dataframe\">\n",
       "  <thead>\n",
       "    <tr style=\"text-align: right;\">\n",
       "      <th></th>\n",
       "      <th>Year</th>\n",
       "      <th>Month</th>\n",
       "      <th>Tax Revenue USA</th>\n",
       "      <th>Tax Revenue UK</th>\n",
       "      <th>Tax Revenue Sweden</th>\n",
       "      <th>Tax Revenue France</th>\n",
       "      <th>index</th>\n",
       "    </tr>\n",
       "  </thead>\n",
       "  <tbody>\n",
       "    <tr>\n",
       "      <th>0</th>\n",
       "      <td>1868</td>\n",
       "      <td>Jan</td>\n",
       "      <td>0.0</td>\n",
       "      <td>0.074000</td>\n",
       "      <td>0.0</td>\n",
       "      <td>0.0</td>\n",
       "      <td>0</td>\n",
       "    </tr>\n",
       "    <tr>\n",
       "      <th>1</th>\n",
       "      <td>1868</td>\n",
       "      <td>Feb</td>\n",
       "      <td>0.0</td>\n",
       "      <td>0.073875</td>\n",
       "      <td>0.0</td>\n",
       "      <td>0.0</td>\n",
       "      <td>1</td>\n",
       "    </tr>\n",
       "    <tr>\n",
       "      <th>2</th>\n",
       "      <td>1868</td>\n",
       "      <td>Mar</td>\n",
       "      <td>0.0</td>\n",
       "      <td>0.073750</td>\n",
       "      <td>0.0</td>\n",
       "      <td>0.0</td>\n",
       "      <td>2</td>\n",
       "    </tr>\n",
       "    <tr>\n",
       "      <th>3</th>\n",
       "      <td>1868</td>\n",
       "      <td>Apr</td>\n",
       "      <td>0.0</td>\n",
       "      <td>0.073625</td>\n",
       "      <td>0.0</td>\n",
       "      <td>0.0</td>\n",
       "      <td>3</td>\n",
       "    </tr>\n",
       "    <tr>\n",
       "      <th>4</th>\n",
       "      <td>1868</td>\n",
       "      <td>May</td>\n",
       "      <td>0.0</td>\n",
       "      <td>0.073500</td>\n",
       "      <td>0.0</td>\n",
       "      <td>0.0</td>\n",
       "      <td>4</td>\n",
       "    </tr>\n",
       "  </tbody>\n",
       "</table>\n",
       "</div>"
      ],
      "text/plain": [
       "   Year Month  Tax Revenue USA  Tax Revenue UK  Tax Revenue Sweden  \\\n",
       "0  1868   Jan              0.0        0.074000                 0.0   \n",
       "1  1868   Feb              0.0        0.073875                 0.0   \n",
       "2  1868   Mar              0.0        0.073750                 0.0   \n",
       "3  1868   Apr              0.0        0.073625                 0.0   \n",
       "4  1868   May              0.0        0.073500                 0.0   \n",
       "\n",
       "   Tax Revenue France  index  \n",
       "0                 0.0      0  \n",
       "1                 0.0      1  \n",
       "2                 0.0      2  \n",
       "3                 0.0      3  \n",
       "4                 0.0      4  "
      ]
     },
     "execution_count": 32,
     "metadata": {},
     "output_type": "execute_result"
    }
   ],
   "source": [
    "cd_file=\"C:\\\\Users\\\\azejja\\\\OneDrive - Alstom\\\\Bureau\\\\OwnEndeavors\"\n",
    "filename=\"Chapter13TablesFigures_taxRevenue_clean.xlsx\"\n",
    "sheetname=\"Sheet3\"\n",
    "# Reading file\n",
    "df2=pd.read_excel(os.path.join(cd_file,filename),sheet_name=sheetname,header=0,skipfooter=0)\n",
    "df2.head()\n"
   ]
  },
  {
   "cell_type": "code",
   "execution_count": 33,
   "metadata": {},
   "outputs": [
    {
     "name": "stdout",
     "output_type": "stream",
     "text": [
      "Year      0\n",
      "Month     0\n",
      "USA       0\n",
      "UK        0\n",
      "Sweden    0\n",
      "France    0\n",
      "index     0\n",
      "dtype: int64\n",
      "   Year Month  USA      UK  Sweden  France  index\n",
      "0  1868   Jan  0.0  7.4000     0.0     0.0      0\n",
      "1  1868   Feb  0.0  7.3875     0.0     0.0      1\n",
      "2  1868   Mar  0.0  7.3750     0.0     0.0      2\n",
      "3  1868   Apr  0.0  7.3625     0.0     0.0      3\n",
      "4  1868   May  0.0  7.3500     0.0     0.0      4\n"
     ]
    }
   ],
   "source": [
    "# rename the columns \n",
    "df2.rename(columns={'Tax Revenue USA':'USA','Tax Revenue UK':'UK','Tax Revenue Sweden':'Sweden','Tax Revenue France':'France'},inplace=True)\n",
    "\n",
    "# display the values in %\n",
    "df2['USA']=df2['USA']*100\n",
    "df2['UK']=df2['UK']*100\n",
    "df2['Sweden']=df2['Sweden']*100\n",
    "df2['France']=df2['France']*100\n",
    "\n",
    "# column ilocs\n",
    "col_ilocs=[2,3,4,5]\n",
    "time_ilocs=[0,1]\n",
    "\n",
    "#number of nans\n",
    "print(df2.isnull().sum())\n",
    "print(df2.head())"
   ]
  },
  {
   "attachments": {},
   "cell_type": "markdown",
   "metadata": {},
   "source": [
    "## PLOTS"
   ]
  },
  {
   "cell_type": "code",
   "execution_count": 34,
   "metadata": {},
   "outputs": [
    {
     "data": {
      "image/png": "[encoded data removed]",
      "text/plain": [
       "<Figure size 1080x720 with 1 Axes>"
      ]
     },
     "metadata": {},
     "output_type": "display_data"
    },
    {
     "name": "stdout",
     "output_type": "stream",
     "text": [
      "Plotting done successfully\n"
     ]
    }
   ],
   "source": [
    "plot_data_time(df2.index.values,df2.values[:,col_ilocs], df2.columns.values[col_ilocs])"
   ]
  },
  {
   "cell_type": "code",
   "execution_count": 37,
   "metadata": {},
   "outputs": [
    {
     "data": {
      "image/png": "[encoded data removed]",
      "text/plain": [
       "<Figure size 1152x648 with 1 Axes>"
      ]
     },
     "metadata": {},
     "output_type": "display_data"
    },
    {
     "name": "stdout",
     "output_type": "stream",
     "text": [
      "Plotting done successfully\n"
     ]
    }
   ],
   "source": [
    "# Showing the plots\n",
    "plot_data_instances(df2, time_ilocs, col_ilocs=col_ilocs, \n",
    "                    x_label=\"Tax [%] \", title0=\"Year: \",\n",
    "                      Show=True, number_of_instances=100,\n",
    "                      extension=\".png\",dpi=100, directory=\"plots/\")\n"
   ]
  },
  {
   "cell_type": "code",
   "execution_count": 40,
   "metadata": {},
   "outputs": [
    {
     "name": "stdout",
     "output_type": "stream",
     "text": [
      "Progress: 0.0%\n",
      "Progress: 9.0%\n",
      "Progress: 19.0%\n",
      "Progress: 29.0%\n",
      "Progress: 39.0%\n",
      "Progress: 49.0%\n",
      "Progress: 59.0%\n",
      "Progress: 69.0%\n",
      "Progress: 79.0%\n",
      "Progress: 89.0%\n",
      "Progress: 99.0%\n",
      "Plotting done successfully\n"
     ]
    }
   ],
   "source": [
    "# Saving the plots\n",
    "plot_data_instances(df2, time_ilocs, col_ilocs=col_ilocs, \n",
    "                    x_label=\"Tax [%] \", title0=\"Year: \",\n",
    "                      Show=False, number_of_instances=\"all\",\n",
    "                      extension=\".png\",dpi=50, directory=\"plots/\")\n"
   ]
  },
  {
   "attachments": {},
   "cell_type": "markdown",
   "metadata": {},
   "source": [
    "## VIDEO"
   ]
  },
  {
   "cell_type": "code",
   "execution_count": 43,
   "metadata": {},
   "outputs": [
    {
     "name": "stderr",
     "output_type": "stream",
     "text": [
      "<ipython-input-42-d591053b2e75>:12: FutureWarning: elementwise comparison failed; returning scalar instead, but in the future will perform elementwise comparison\n",
      "  if  number_of_images==\"all\":\n"
     ]
    },
    {
     "name": "stdout",
     "output_type": "stream",
     "text": [
      "using images from 500 to 999\n",
      "Progress: 29.0%\n",
      "Progress: 39.0%\n",
      "Progress: 49.0%\n",
      "Saving file c:\\Users\\azejja\\OneDrive - Alstom\\Bureau\\OwnEndeavors\\proj2.mp4\n",
      "Video made successfully\n"
     ]
    }
   ],
   "source": [
    "make_video(image_folder='plots/', video_name='proj2', fps=24,\n",
    "            image_extension=\".png\", video_extension=\".mp4\",\n",
    "            number_of_images=np.arange(500,1000))\n"
   ]
  },
  {
   "cell_type": "code",
   "execution_count": 54,
   "metadata": {},
   "outputs": [
    {
     "name": "stdout",
     "output_type": "stream",
     "text": [
      "c:\\Users\\azejja\\OneDrive - Alstom\\Bureau\\OwnEndeavors\n",
      "making video 0 with images from 0.0 to 337.0\n",
      "using images from 0.0 to 337.0\n",
      "Progress: 0.0%\n"
     ]
    },
    {
     "name": "stderr",
     "output_type": "stream",
     "text": [
      "<ipython-input-42-d591053b2e75>:12: FutureWarning: elementwise comparison failed; returning scalar instead, but in the future will perform elementwise comparison\n",
      "  if  number_of_images==\"all\":\n"
     ]
    },
    {
     "name": "stdout",
     "output_type": "stream",
     "text": [
      "Progress: 9.0%\n",
      "Saving file c:\\Users\\azejja\\OneDrive - Alstom\\Bureau\\OwnEndeavors/videos/video0.mp4\n",
      "Video made successfully\n",
      "making video 1 with images from 338.0 to 675.0\n",
      "using images from 338.0 to 675.0\n",
      "Progress: 19.0%\n"
     ]
    },
    {
     "name": "stderr",
     "output_type": "stream",
     "text": [
      "<ipython-input-29-92b2aa301f2a>:38: RuntimeWarning: invalid value encountered in double_scalars\n",
      "  if i%np.floor(number_of_videos/10)==0:\n"
     ]
    },
    {
     "name": "stdout",
     "output_type": "stream",
     "text": [
      "Progress: 29.0%\n",
      "Saving file c:\\Users\\azejja\\OneDrive - Alstom\\Bureau\\OwnEndeavors/videos/video1.mp4\n",
      "Video made successfully\n",
      "making video 2 with images from 676.0 to 1013.0\n",
      "using images from 676.0 to 1013.0\n",
      "Progress: 39.0%\n"
     ]
    },
    {
     "name": "stderr",
     "output_type": "stream",
     "text": [
      "<ipython-input-29-92b2aa301f2a>:38: RuntimeWarning: divide by zero encountered in double_scalars\n",
      "  if i%np.floor(number_of_videos/10)==0:\n"
     ]
    },
    {
     "name": "stdout",
     "output_type": "stream",
     "text": [
      "Progress: 49.0%\n",
      "Saving file c:\\Users\\azejja\\OneDrive - Alstom\\Bureau\\OwnEndeavors/videos/video2.mp4\n",
      "Video made successfully\n",
      "making video 3 with images from 1014.0 to 1351.0\n",
      "using images from 1014.0 to 1351.0\n",
      "Progress: 59.0%\n",
      "Progress: 69.0%\n",
      "Saving file c:\\Users\\azejja\\OneDrive - Alstom\\Bureau\\OwnEndeavors/videos/video3.mp4\n",
      "Video made successfully\n",
      "making video 4 with images from 1352.0 to 1691.0\n",
      "using images from 1352.0 to 1691.0\n",
      "Progress: 79.0%\n",
      "Progress: 89.0%\n",
      "Progress: 99.0%\n",
      "Saving file c:\\Users\\azejja\\OneDrive - Alstom\\Bureau\\OwnEndeavors/videos/video4.mp4\n",
      "Video made successfully\n",
      "Videos made successfully\n",
      "['video0', 'video1', 'video2', 'video3', 'video4']\n"
     ]
    }
   ],
   "source": [
    "videos_directory=\"videos/\"\n",
    "videos_list=make_videos(image_folder='plots/', fps=24, image_extension=\".png\", videos_extension=\".mp4\",\n",
    "                number_of_videos=5, number_of_images=\"all\", directory=videos_directory)\n",
    "print(videos_list)"
   ]
  },
  {
   "cell_type": "code",
   "execution_count": 58,
   "metadata": {},
   "outputs": [
    {
     "name": "stdout",
     "output_type": "stream",
     "text": [
      "['c:\\\\Users\\\\azejja\\\\OneDrive - Alstom\\\\Bureau\\\\OwnEndeavors/videos/video0.mp4', 'c:\\\\Users\\\\azejja\\\\OneDrive - Alstom\\\\Bureau\\\\OwnEndeavors/videos/video1.mp4', 'c:\\\\Users\\\\azejja\\\\OneDrive - Alstom\\\\Bureau\\\\OwnEndeavors/videos/video2.mp4', 'c:\\\\Users\\\\azejja\\\\OneDrive - Alstom\\\\Bureau\\\\OwnEndeavors/videos/video3.mp4', 'c:\\\\Users\\\\azejja\\\\OneDrive - Alstom\\\\Bureau\\\\OwnEndeavors/videos/video4.mp4'] c:\\Users\\azejja\\OneDrive - Alstom\\Bureau\\OwnEndeavors/videos/Concatenated_video.mp4\n",
      "24.0\n"
     ]
    },
    {
     "name": "stderr",
     "output_type": "stream",
     "text": [
      "IMAGEIO FFMPEG_WRITER WARNING: input image is not divisible by macro_block_size=16, resizing from (800, 450) to (800, 464) to ensure video compatibility with most codecs and players. To prevent resizing, make your input image divisible by the macro_block_size or set the macro_block_size to 1 (risking incompatibility).\n"
     ]
    },
    {
     "name": "stdout",
     "output_type": "stream",
     "text": [
      "saving concatenated video to c:\\Users\\azejja\\OneDrive - Alstom\\Bureau\\OwnEndeavors/videos/Concatenated_video.mp4\n",
      "Videos concatenated successfully\n"
     ]
    }
   ],
   "source": [
    "videos_path=os.getcwd()+'/'+ videos_directory\n",
    "concatenate_videos(videos_list=videos_list,\n",
    "                    concatenated_video_name=\"Concatenated_video\",\n",
    "                        video_extension=\".mp4\",videos_path=videos_path)\n",
    "os.chdir(cd_file)"
   ]
  },
  {
   "attachments": {},
   "cell_type": "markdown",
   "metadata": {},
   "source": [
    "## Using BCR"
   ]
  },
  {
   "cell_type": "code",
   "execution_count": 59,
   "metadata": {},
   "outputs": [],
   "source": [
    "import os\n",
    "import pandas as pd\n",
    "import numpy as np\n",
    "import matplotlib.pyplot as plt\n",
    "import bar_chart_race as bcr"
   ]
  },
  {
   "cell_type": "code",
   "execution_count": 60,
   "metadata": {},
   "outputs": [
    {
     "data": {
      "text/html": [
       "<div>\n",
       "<style scoped>\n",
       "    .dataframe tbody tr th:only-of-type {\n",
       "        vertical-align: middle;\n",
       "    }\n",
       "\n",
       "    .dataframe tbody tr th {\n",
       "        vertical-align: top;\n",
       "    }\n",
       "\n",
       "    .dataframe thead th {\n",
       "        text-align: right;\n",
       "    }\n",
       "</style>\n",
       "<table border=\"1\" class=\"dataframe\">\n",
       "  <thead>\n",
       "    <tr style=\"text-align: right;\">\n",
       "      <th></th>\n",
       "      <th>Year</th>\n",
       "      <th>Month</th>\n",
       "      <th>USA</th>\n",
       "      <th>UK</th>\n",
       "      <th>Sweden</th>\n",
       "      <th>France</th>\n",
       "      <th>index</th>\n",
       "    </tr>\n",
       "    <tr>\n",
       "      <th>Date</th>\n",
       "      <th></th>\n",
       "      <th></th>\n",
       "      <th></th>\n",
       "      <th></th>\n",
       "      <th></th>\n",
       "      <th></th>\n",
       "      <th></th>\n",
       "    </tr>\n",
       "  </thead>\n",
       "  <tbody>\n",
       "    <tr>\n",
       "      <th>1868-01-01</th>\n",
       "      <td>1868</td>\n",
       "      <td>Jan</td>\n",
       "      <td>0.0</td>\n",
       "      <td>7.4000</td>\n",
       "      <td>0.0</td>\n",
       "      <td>0.0</td>\n",
       "      <td>0</td>\n",
       "    </tr>\n",
       "    <tr>\n",
       "      <th>1868-02-01</th>\n",
       "      <td>1868</td>\n",
       "      <td>Feb</td>\n",
       "      <td>0.0</td>\n",
       "      <td>7.3875</td>\n",
       "      <td>0.0</td>\n",
       "      <td>0.0</td>\n",
       "      <td>1</td>\n",
       "    </tr>\n",
       "    <tr>\n",
       "      <th>1868-03-01</th>\n",
       "      <td>1868</td>\n",
       "      <td>Mar</td>\n",
       "      <td>0.0</td>\n",
       "      <td>7.3750</td>\n",
       "      <td>0.0</td>\n",
       "      <td>0.0</td>\n",
       "      <td>2</td>\n",
       "    </tr>\n",
       "    <tr>\n",
       "      <th>1868-04-01</th>\n",
       "      <td>1868</td>\n",
       "      <td>Apr</td>\n",
       "      <td>0.0</td>\n",
       "      <td>7.3625</td>\n",
       "      <td>0.0</td>\n",
       "      <td>0.0</td>\n",
       "      <td>3</td>\n",
       "    </tr>\n",
       "    <tr>\n",
       "      <th>1868-05-01</th>\n",
       "      <td>1868</td>\n",
       "      <td>May</td>\n",
       "      <td>0.0</td>\n",
       "      <td>7.3500</td>\n",
       "      <td>0.0</td>\n",
       "      <td>0.0</td>\n",
       "      <td>4</td>\n",
       "    </tr>\n",
       "  </tbody>\n",
       "</table>\n",
       "</div>"
      ],
      "text/plain": [
       "            Year Month  USA      UK  Sweden  France  index\n",
       "Date                                                      \n",
       "1868-01-01  1868   Jan  0.0  7.4000     0.0     0.0      0\n",
       "1868-02-01  1868   Feb  0.0  7.3875     0.0     0.0      1\n",
       "1868-03-01  1868   Mar  0.0  7.3750     0.0     0.0      2\n",
       "1868-04-01  1868   Apr  0.0  7.3625     0.0     0.0      3\n",
       "1868-05-01  1868   May  0.0  7.3500     0.0     0.0      4"
      ]
     },
     "execution_count": 60,
     "metadata": {},
     "output_type": "execute_result"
    }
   ],
   "source": [
    "# make a column of Date from Year and month\n",
    "df2['Date']=pd.to_datetime(df2['Year'].astype(str)+'-'+df2['Month'].astype(str))\n",
    "# make Date the index\n",
    "df2.set_index('Date',inplace=True)\n",
    "df2.head()\n"
   ]
  },
  {
   "cell_type": "code",
   "execution_count": 61,
   "metadata": {},
   "outputs": [
    {
     "name": "stderr",
     "output_type": "stream",
     "text": [
      "MovieWriter ffmpeg unavailable; using Pillow instead.\n"
     ]
    },
    {
     "ename": "Exception",
     "evalue": "list index out of range",
     "output_type": "error",
     "traceback": [
      "\u001b[1;31m---------------------------------------------------------------------------\u001b[0m",
      "\u001b[1;31mFileNotFoundError\u001b[0m                         Traceback (most recent call last)",
      "\u001b[1;32mc:\\ProgramData\\Anaconda3\\lib\\site-packages\\matplotlib\\animation.py\u001b[0m in \u001b[0;36msaving\u001b[1;34m(self, fig, outfile, dpi, *args, **kwargs)\u001b[0m\n\u001b[0;32m    250\u001b[0m         \u001b[1;32mtry\u001b[0m\u001b[1;33m:\u001b[0m\u001b[1;33m\u001b[0m\u001b[1;33m\u001b[0m\u001b[0m\n\u001b[1;32m--> 251\u001b[1;33m             \u001b[1;32myield\u001b[0m \u001b[0mself\u001b[0m\u001b[1;33m\u001b[0m\u001b[1;33m\u001b[0m\u001b[0m\n\u001b[0m\u001b[0;32m    252\u001b[0m         \u001b[1;32mfinally\u001b[0m\u001b[1;33m:\u001b[0m\u001b[1;33m\u001b[0m\u001b[1;33m\u001b[0m\u001b[0m\n",
      "\u001b[1;32mc:\\ProgramData\\Anaconda3\\lib\\site-packages\\matplotlib\\animation.py\u001b[0m in \u001b[0;36msave\u001b[1;34m(self, filename, writer, fps, dpi, codec, bitrate, extra_args, metadata, extra_anim, savefig_kwargs, progress_callback)\u001b[0m\n\u001b[0;32m   1143\u001b[0m             \u001b[1;32mfor\u001b[0m \u001b[0manim\u001b[0m \u001b[1;32min\u001b[0m \u001b[0mall_anim\u001b[0m\u001b[1;33m:\u001b[0m\u001b[1;33m\u001b[0m\u001b[1;33m\u001b[0m\u001b[0m\n\u001b[1;32m-> 1144\u001b[1;33m                 \u001b[0manim\u001b[0m\u001b[1;33m.\u001b[0m\u001b[0m_init_draw\u001b[0m\u001b[1;33m(\u001b[0m\u001b[1;33m)\u001b[0m  \u001b[1;31m# Clear the initial frame\u001b[0m\u001b[1;33m\u001b[0m\u001b[1;33m\u001b[0m\u001b[0m\n\u001b[0m\u001b[0;32m   1145\u001b[0m             \u001b[0mframe_number\u001b[0m \u001b[1;33m=\u001b[0m \u001b[1;36m0\u001b[0m\u001b[1;33m\u001b[0m\u001b[1;33m\u001b[0m\u001b[0m\n",
      "\u001b[1;32mc:\\ProgramData\\Anaconda3\\lib\\site-packages\\matplotlib\\animation.py\u001b[0m in \u001b[0;36m_init_draw\u001b[1;34m(self)\u001b[0m\n\u001b[0;32m   1721\u001b[0m         \u001b[1;32melse\u001b[0m\u001b[1;33m:\u001b[0m\u001b[1;33m\u001b[0m\u001b[1;33m\u001b[0m\u001b[0m\n\u001b[1;32m-> 1722\u001b[1;33m             \u001b[0mself\u001b[0m\u001b[1;33m.\u001b[0m\u001b[0m_drawn_artists\u001b[0m \u001b[1;33m=\u001b[0m \u001b[0mself\u001b[0m\u001b[1;33m.\u001b[0m\u001b[0m_init_func\u001b[0m\u001b[1;33m(\u001b[0m\u001b[1;33m)\u001b[0m\u001b[1;33m\u001b[0m\u001b[1;33m\u001b[0m\u001b[0m\n\u001b[0m\u001b[0;32m   1723\u001b[0m             \u001b[1;32mif\u001b[0m \u001b[0mself\u001b[0m\u001b[1;33m.\u001b[0m\u001b[0m_blit\u001b[0m\u001b[1;33m:\u001b[0m\u001b[1;33m\u001b[0m\u001b[1;33m\u001b[0m\u001b[0m\n",
      "\u001b[1;32mc:\\ProgramData\\Anaconda3\\lib\\site-packages\\bar_chart_race\\_bar_chart_race.py\u001b[0m in \u001b[0;36minit_func\u001b[1;34m()\u001b[0m\n\u001b[0;32m    641\u001b[0m             \u001b[0max\u001b[0m \u001b[1;33m=\u001b[0m \u001b[0mself\u001b[0m\u001b[1;33m.\u001b[0m\u001b[0mfig\u001b[0m\u001b[1;33m.\u001b[0m\u001b[0maxes\u001b[0m\u001b[1;33m[\u001b[0m\u001b[1;36m0\u001b[0m\u001b[1;33m]\u001b[0m\u001b[1;33m\u001b[0m\u001b[1;33m\u001b[0m\u001b[0m\n\u001b[1;32m--> 642\u001b[1;33m             \u001b[0mself\u001b[0m\u001b[1;33m.\u001b[0m\u001b[0mplot_bars\u001b[0m\u001b[1;33m(\u001b[0m\u001b[0max\u001b[0m\u001b[1;33m,\u001b[0m \u001b[1;36m0\u001b[0m\u001b[1;33m)\u001b[0m\u001b[1;33m\u001b[0m\u001b[1;33m\u001b[0m\u001b[0m\n\u001b[0m\u001b[0;32m    643\u001b[0m             \u001b[1;31m# self.fig.tight_layout()\u001b[0m\u001b[1;33m\u001b[0m\u001b[1;33m\u001b[0m\u001b[1;33m\u001b[0m\u001b[0m\n",
      "\u001b[1;32mc:\\ProgramData\\Anaconda3\\lib\\site-packages\\bar_chart_race\\_bar_chart_race.py\u001b[0m in \u001b[0;36mplot_bars\u001b[1;34m(self, ax, i)\u001b[0m\n\u001b[0;32m    533\u001b[0m                 \u001b[1;31m#self.offset_image(bar_loc,bar_len,col_name,ax)\u001b[0m\u001b[1;33m\u001b[0m\u001b[1;33m\u001b[0m\u001b[1;33m\u001b[0m\u001b[0m\n\u001b[1;32m--> 534\u001b[1;33m                 \u001b[0mself\u001b[0m\u001b[1;33m.\u001b[0m\u001b[0m_add_tick_label_offset_image\u001b[0m\u001b[1;33m(\u001b[0m\u001b[0mbar_loc\u001b[0m\u001b[1;33m,\u001b[0m\u001b[0mbar_len\u001b[0m\u001b[1;33m,\u001b[0m\u001b[0mcol_name\u001b[0m\u001b[1;33m,\u001b[0m\u001b[0max\u001b[0m\u001b[1;33m)\u001b[0m\u001b[1;33m\u001b[0m\u001b[1;33m\u001b[0m\u001b[0m\n\u001b[0m\u001b[0;32m    535\u001b[0m \u001b[1;33m\u001b[0m\u001b[0m\n",
      "\u001b[1;32mc:\\ProgramData\\Anaconda3\\lib\\site-packages\\bar_chart_race\\_bar_chart_race.py\u001b[0m in \u001b[0;36m_add_tick_label_offset_image\u001b[1;34m(self, location, length, name, ax)\u001b[0m\n\u001b[0;32m    248\u001b[0m         \u001b[0mimg_name\u001b[0m      \u001b[1;33m=\u001b[0m \u001b[0mget_image_name\u001b[0m\u001b[1;33m(\u001b[0m\u001b[0mname\u001b[0m\u001b[1;33m)\u001b[0m\u001b[1;33m\u001b[0m\u001b[1;33m\u001b[0m\u001b[0m\n\u001b[1;32m--> 249\u001b[1;33m         \u001b[0mimg\u001b[0m           \u001b[1;33m=\u001b[0m \u001b[0mget_image_label\u001b[0m\u001b[1;33m(\u001b[0m\u001b[0mself\u001b[0m\u001b[1;33m.\u001b[0m\u001b[0mimg_label_folder\u001b[0m\u001b[1;33m,\u001b[0m\u001b[0mimg_name\u001b[0m\u001b[1;33m)\u001b[0m\u001b[1;33m\u001b[0m\u001b[1;33m\u001b[0m\u001b[0m\n\u001b[0m\u001b[0;32m    250\u001b[0m         \u001b[0mim\u001b[0m            \u001b[1;33m=\u001b[0m \u001b[0mOffsetImage\u001b[0m\u001b[1;33m(\u001b[0m\u001b[0mimg\u001b[0m\u001b[1;33m,\u001b[0m\u001b[0mzoom\u001b[0m\u001b[1;33m=\u001b[0m\u001b[1;36m.25\u001b[0m\u001b[1;33m)\u001b[0m \u001b[1;31m# change zoom value based on icon image's size\u001b[0m\u001b[1;33m\u001b[0m\u001b[1;33m\u001b[0m\u001b[0m\n",
      "\u001b[1;32mc:\\ProgramData\\Anaconda3\\lib\\site-packages\\bar_chart_race\\_bar_chart_race.py\u001b[0m in \u001b[0;36mget_image_label\u001b[1;34m(root_folder, name)\u001b[0m\n\u001b[0;32m     23\u001b[0m     \u001b[1;31m#im = plt.imread(path)\u001b[0m\u001b[1;33m\u001b[0m\u001b[1;33m\u001b[0m\u001b[1;33m\u001b[0m\u001b[0m\n\u001b[1;32m---> 24\u001b[1;33m     \u001b[0mimg\u001b[0m \u001b[1;33m=\u001b[0m \u001b[0mImage\u001b[0m\u001b[1;33m.\u001b[0m\u001b[0mopen\u001b[0m\u001b[1;33m(\u001b[0m\u001b[0mpath\u001b[0m\u001b[1;33m)\u001b[0m\u001b[1;33m\u001b[0m\u001b[1;33m\u001b[0m\u001b[0m\n\u001b[0m\u001b[0;32m     25\u001b[0m     \u001b[0mimg\u001b[0m\u001b[1;33m.\u001b[0m\u001b[0mthumbnail\u001b[0m\u001b[1;33m(\u001b[0m\u001b[1;33m(\u001b[0m\u001b[1;36m200\u001b[0m\u001b[1;33m,\u001b[0m\u001b[1;36m200\u001b[0m\u001b[1;33m)\u001b[0m\u001b[1;33m,\u001b[0m\u001b[0mImage\u001b[0m\u001b[1;33m.\u001b[0m\u001b[0mANTIALIAS\u001b[0m\u001b[1;33m)\u001b[0m\u001b[1;33m\u001b[0m\u001b[1;33m\u001b[0m\u001b[0m\n",
      "\u001b[1;32mc:\\ProgramData\\Anaconda3\\lib\\site-packages\\PIL\\Image.py\u001b[0m in \u001b[0;36mopen\u001b[1;34m(fp, mode, formats)\u001b[0m\n\u001b[0;32m   2911\u001b[0m     \u001b[1;32mif\u001b[0m \u001b[0mfilename\u001b[0m\u001b[1;33m:\u001b[0m\u001b[1;33m\u001b[0m\u001b[1;33m\u001b[0m\u001b[0m\n\u001b[1;32m-> 2912\u001b[1;33m         \u001b[0mfp\u001b[0m \u001b[1;33m=\u001b[0m \u001b[0mbuiltins\u001b[0m\u001b[1;33m.\u001b[0m\u001b[0mopen\u001b[0m\u001b[1;33m(\u001b[0m\u001b[0mfilename\u001b[0m\u001b[1;33m,\u001b[0m \u001b[1;34m\"rb\"\u001b[0m\u001b[1;33m)\u001b[0m\u001b[1;33m\u001b[0m\u001b[1;33m\u001b[0m\u001b[0m\n\u001b[0m\u001b[0;32m   2913\u001b[0m         \u001b[0mexclusive_fp\u001b[0m \u001b[1;33m=\u001b[0m \u001b[1;32mTrue\u001b[0m\u001b[1;33m\u001b[0m\u001b[1;33m\u001b[0m\u001b[0m\n",
      "\u001b[1;31mFileNotFoundError\u001b[0m: [Errno 2] No such file or directory: 'logos\\\\USA.png'",
      "\nDuring handling of the above exception, another exception occurred:\n",
      "\u001b[1;31mIndexError\u001b[0m                                Traceback (most recent call last)",
      "\u001b[1;32mc:\\ProgramData\\Anaconda3\\lib\\site-packages\\bar_chart_race\\_bar_chart_race.py\u001b[0m in \u001b[0;36mmake_animation\u001b[1;34m(self)\u001b[0m\n\u001b[0;32m    675\u001b[0m                     \u001b[0mfc\u001b[0m \u001b[1;33m=\u001b[0m \u001b[1;34m'white'\u001b[0m\u001b[1;33m\u001b[0m\u001b[1;33m\u001b[0m\u001b[0m\n\u001b[1;32m--> 676\u001b[1;33m                 ret_val = anim.save(self.filename, fps=self.fps, writer=self.writer, \n\u001b[0m\u001b[0;32m    677\u001b[0m                                     savefig_kwargs=savefig_kwargs) \n",
      "\u001b[1;32mc:\\ProgramData\\Anaconda3\\lib\\site-packages\\matplotlib\\animation.py\u001b[0m in \u001b[0;36msave\u001b[1;34m(self, filename, writer, fps, dpi, codec, bitrate, extra_args, metadata, extra_anim, savefig_kwargs, progress_callback)\u001b[0m\n\u001b[0;32m   1160\u001b[0m                         \u001b[0mframe_number\u001b[0m \u001b[1;33m+=\u001b[0m \u001b[1;36m1\u001b[0m\u001b[1;33m\u001b[0m\u001b[1;33m\u001b[0m\u001b[0m\n\u001b[1;32m-> 1161\u001b[1;33m                 \u001b[0mwriter\u001b[0m\u001b[1;33m.\u001b[0m\u001b[0mgrab_frame\u001b[0m\u001b[1;33m(\u001b[0m\u001b[1;33m**\u001b[0m\u001b[0msavefig_kwargs\u001b[0m\u001b[1;33m)\u001b[0m\u001b[1;33m\u001b[0m\u001b[1;33m\u001b[0m\u001b[0m\n\u001b[0m\u001b[0;32m   1162\u001b[0m \u001b[1;33m\u001b[0m\u001b[0m\n",
      "\u001b[1;32mc:\\ProgramData\\Anaconda3\\lib\\contextlib.py\u001b[0m in \u001b[0;36m__exit__\u001b[1;34m(self, type, value, traceback)\u001b[0m\n\u001b[0;32m    130\u001b[0m             \u001b[1;32mtry\u001b[0m\u001b[1;33m:\u001b[0m\u001b[1;33m\u001b[0m\u001b[1;33m\u001b[0m\u001b[0m\n\u001b[1;32m--> 131\u001b[1;33m                 \u001b[0mself\u001b[0m\u001b[1;33m.\u001b[0m\u001b[0mgen\u001b[0m\u001b[1;33m.\u001b[0m\u001b[0mthrow\u001b[0m\u001b[1;33m(\u001b[0m\u001b[0mtype\u001b[0m\u001b[1;33m,\u001b[0m \u001b[0mvalue\u001b[0m\u001b[1;33m,\u001b[0m \u001b[0mtraceback\u001b[0m\u001b[1;33m)\u001b[0m\u001b[1;33m\u001b[0m\u001b[1;33m\u001b[0m\u001b[0m\n\u001b[0m\u001b[0;32m    132\u001b[0m             \u001b[1;32mexcept\u001b[0m \u001b[0mStopIteration\u001b[0m \u001b[1;32mas\u001b[0m \u001b[0mexc\u001b[0m\u001b[1;33m:\u001b[0m\u001b[1;33m\u001b[0m\u001b[1;33m\u001b[0m\u001b[0m\n",
      "\u001b[1;32mc:\\ProgramData\\Anaconda3\\lib\\site-packages\\matplotlib\\animation.py\u001b[0m in \u001b[0;36msaving\u001b[1;34m(self, fig, outfile, dpi, *args, **kwargs)\u001b[0m\n\u001b[0;32m    252\u001b[0m         \u001b[1;32mfinally\u001b[0m\u001b[1;33m:\u001b[0m\u001b[1;33m\u001b[0m\u001b[1;33m\u001b[0m\u001b[0m\n\u001b[1;32m--> 253\u001b[1;33m             \u001b[0mself\u001b[0m\u001b[1;33m.\u001b[0m\u001b[0mfinish\u001b[0m\u001b[1;33m(\u001b[0m\u001b[1;33m)\u001b[0m\u001b[1;33m\u001b[0m\u001b[1;33m\u001b[0m\u001b[0m\n\u001b[0m\u001b[0;32m    254\u001b[0m \u001b[1;33m\u001b[0m\u001b[0m\n",
      "\u001b[1;32mc:\\ProgramData\\Anaconda3\\lib\\site-packages\\matplotlib\\animation.py\u001b[0m in \u001b[0;36mfinish\u001b[1;34m(self)\u001b[0m\n\u001b[0;32m    553\u001b[0m     \u001b[1;32mdef\u001b[0m \u001b[0mfinish\u001b[0m\u001b[1;33m(\u001b[0m\u001b[0mself\u001b[0m\u001b[1;33m)\u001b[0m\u001b[1;33m:\u001b[0m\u001b[1;33m\u001b[0m\u001b[1;33m\u001b[0m\u001b[0m\n\u001b[1;32m--> 554\u001b[1;33m         self._frames[0].save(\n\u001b[0m\u001b[0;32m    555\u001b[0m             \u001b[0mself\u001b[0m\u001b[1;33m.\u001b[0m\u001b[0moutfile\u001b[0m\u001b[1;33m,\u001b[0m \u001b[0msave_all\u001b[0m\u001b[1;33m=\u001b[0m\u001b[1;32mTrue\u001b[0m\u001b[1;33m,\u001b[0m \u001b[0mappend_images\u001b[0m\u001b[1;33m=\u001b[0m\u001b[0mself\u001b[0m\u001b[1;33m.\u001b[0m\u001b[0m_frames\u001b[0m\u001b[1;33m[\u001b[0m\u001b[1;36m1\u001b[0m\u001b[1;33m:\u001b[0m\u001b[1;33m]\u001b[0m\u001b[1;33m,\u001b[0m\u001b[1;33m\u001b[0m\u001b[1;33m\u001b[0m\u001b[0m\n",
      "\u001b[1;31mIndexError\u001b[0m: list index out of range",
      "\nDuring handling of the above exception, another exception occurred:\n",
      "\u001b[1;31mException\u001b[0m                                 Traceback (most recent call last)",
      "\u001b[1;32m<ipython-input-61-cde145e51300>\u001b[0m in \u001b[0;36m<module>\u001b[1;34m\u001b[0m\n\u001b[0;32m      1\u001b[0m \u001b[0mos\u001b[0m\u001b[1;33m.\u001b[0m\u001b[0mchdir\u001b[0m\u001b[1;33m(\u001b[0m\u001b[0mcd_file\u001b[0m\u001b[1;33m)\u001b[0m\u001b[1;33m\u001b[0m\u001b[1;33m\u001b[0m\u001b[0m\n\u001b[1;32m----> 2\u001b[1;33m bcr.bar_chart_race(\n\u001b[0m\u001b[0;32m      3\u001b[0m     \u001b[0mdf2\u001b[0m\u001b[1;33m[\u001b[0m\u001b[1;33m[\u001b[0m\u001b[1;34m'USA'\u001b[0m\u001b[1;33m,\u001b[0m\u001b[1;34m'UK'\u001b[0m\u001b[1;33m,\u001b[0m\u001b[1;34m'Sweden'\u001b[0m\u001b[1;33m,\u001b[0m\u001b[1;34m'France'\u001b[0m\u001b[1;33m]\u001b[0m\u001b[1;33m]\u001b[0m\u001b[1;33m,\u001b[0m\u001b[1;33m\u001b[0m\u001b[1;33m\u001b[0m\u001b[0m\n\u001b[0;32m      4\u001b[0m     \u001b[0mfilename\u001b[0m\u001b[1;33m=\u001b[0m\u001b[1;34m\"BCR_vid1.mp4\"\u001b[0m\u001b[1;33m,\u001b[0m\u001b[1;33m\u001b[0m\u001b[1;33m\u001b[0m\u001b[0m\n\u001b[0;32m      5\u001b[0m     \u001b[0mimg_label_folder\u001b[0m\u001b[1;33m=\u001b[0m\u001b[1;34m\"logos\"\u001b[0m\u001b[1;33m,\u001b[0m\u001b[1;33m\u001b[0m\u001b[1;33m\u001b[0m\u001b[0m\n",
      "\u001b[1;32mc:\\ProgramData\\Anaconda3\\lib\\site-packages\\bar_chart_race\\_bar_chart_race.py\u001b[0m in \u001b[0;36mbar_chart_race\u001b[1;34m(df, filename, orientation, sort, n_bars, fixed_order, fixed_max, steps_per_period, period_length, end_period_pause, interpolate_period, period_label, period_template, period_summary_func, perpendicular_bar_func, colors, title, bar_size, bar_textposition, bar_texttemplate, bar_label_font, tick_label_font, tick_template, shared_fontdict, scale, fig, writer, bar_kwargs, fig_kwargs, filter_column_colors, img_label_folder, tick_label_mode, tick_image_mode)\u001b[0m\n\u001b[0;32m   1075\u001b[0m                         \u001b[0mfig\u001b[0m\u001b[1;33m,\u001b[0m \u001b[0mwriter\u001b[0m\u001b[1;33m,\u001b[0m \u001b[0mbar_kwargs\u001b[0m\u001b[1;33m,\u001b[0m \u001b[0mfig_kwargs\u001b[0m\u001b[1;33m,\u001b[0m \u001b[0mfilter_column_colors\u001b[0m\u001b[1;33m,\u001b[0m\u001b[1;33m\u001b[0m\u001b[1;33m\u001b[0m\u001b[0m\n\u001b[0;32m   1076\u001b[0m                         img_label_folder,tick_label_mode,tick_image_mode)\n\u001b[1;32m-> 1077\u001b[1;33m     \u001b[1;32mreturn\u001b[0m \u001b[0mbcr\u001b[0m\u001b[1;33m.\u001b[0m\u001b[0mmake_animation\u001b[0m\u001b[1;33m(\u001b[0m\u001b[1;33m)\u001b[0m\u001b[1;33m\u001b[0m\u001b[1;33m\u001b[0m\u001b[0m\n\u001b[0m",
      "\u001b[1;32mc:\\ProgramData\\Anaconda3\\lib\\site-packages\\bar_chart_race\\_bar_chart_race.py\u001b[0m in \u001b[0;36mmake_animation\u001b[1;34m(self)\u001b[0m\n\u001b[0;32m    678\u001b[0m         \u001b[1;32mexcept\u001b[0m \u001b[0mException\u001b[0m \u001b[1;32mas\u001b[0m \u001b[0me\u001b[0m\u001b[1;33m:\u001b[0m\u001b[1;33m\u001b[0m\u001b[1;33m\u001b[0m\u001b[0m\n\u001b[0;32m    679\u001b[0m             \u001b[0mmessage\u001b[0m \u001b[1;33m=\u001b[0m \u001b[0mstr\u001b[0m\u001b[1;33m(\u001b[0m\u001b[0me\u001b[0m\u001b[1;33m)\u001b[0m\u001b[1;33m\u001b[0m\u001b[1;33m\u001b[0m\u001b[0m\n\u001b[1;32m--> 680\u001b[1;33m             \u001b[1;32mraise\u001b[0m \u001b[0mException\u001b[0m\u001b[1;33m(\u001b[0m\u001b[0mmessage\u001b[0m\u001b[1;33m)\u001b[0m\u001b[1;33m\u001b[0m\u001b[1;33m\u001b[0m\u001b[0m\n\u001b[0m\u001b[0;32m    681\u001b[0m         \u001b[1;32mfinally\u001b[0m\u001b[1;33m:\u001b[0m\u001b[1;33m\u001b[0m\u001b[1;33m\u001b[0m\u001b[0m\n\u001b[0;32m    682\u001b[0m             \u001b[0mplt\u001b[0m\u001b[1;33m.\u001b[0m\u001b[0mrcParams\u001b[0m \u001b[1;33m=\u001b[0m \u001b[0mself\u001b[0m\u001b[1;33m.\u001b[0m\u001b[0morig_rcParams\u001b[0m\u001b[1;33m\u001b[0m\u001b[1;33m\u001b[0m\u001b[0m\n",
      "\u001b[1;31mException\u001b[0m: list index out of range"
     ]
    }
   ],
   "source": [
    "os.chdir(cd_file)\n",
    "bcr.bar_chart_race(\n",
    "    df2[['USA','UK','Sweden','France']],\n",
    "    filename=\"BCR_vid1.mp4\",\n",
    "    img_label_folder=\"logos\",\n",
    "    fig_kwargs={\n",
    "        'figsize':(26,15),\n",
    "        'dpi':120,\n",
    "        # 'facecolor':'#F8FAFF'\n",
    "    },\n",
    "    # n_bars=10,\n",
    "    steps_per_period=3,\n",
    "    period_length=20,\n",
    "    # colors=['#6ECBCE','#FF2243','#FFC33C','#FFA0C4','#B6E836','#FFA0C4','#FFC33C','#FF2243','#6ECBCE','#B6E836'],\n",
    "    title={'label':'Tax [%] for countries','size':50,'weight':'bold','pad':40},\n",
    "    period_label={'x':0.95,'y':0.15,'ha':'right','va':'center','size':72,'weight':'semibold'},\n",
    "    bar_label_font={'size':27},\n",
    "    tick_label_font={'size':27},\n",
    "    bar_kwargs={'alpha':.99,'lw':0},\n",
    "    bar_texttemplate='{x:.2f}',\n",
    "    period_template='{x:.0f}'\n",
    "    )\n"
   ]
  },
  {
   "cell_type": "code",
   "execution_count": null,
   "metadata": {},
   "outputs": [],
   "source": []
  }
 ],
 "metadata": {
  "kernelspec": {
   "display_name": "base",
   "language": "python",
   "name": "python3"
  },
  "language_info": {
   "codemirror_mode": {
    "name": "ipython",
    "version": 3
   },
   "file_extension": ".py",
   "mimetype": "text/x-python",
   "name": "python",
   "nbconvert_exporter": "python",
   "pygments_lexer": "ipython3",
   "version": "3.8.8"
  },
  "orig_nbformat": 4
 },
 "nbformat": 4,
 "nbformat_minor": 2
}
